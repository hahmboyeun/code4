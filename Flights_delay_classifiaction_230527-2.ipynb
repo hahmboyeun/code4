{
 "cells": [
  {
   "cell_type": "code",
   "execution_count": null,
   "metadata": {},
   "outputs": [],
   "source": []
  },
  {
   "cell_type": "markdown",
   "metadata": {},
   "source": [
    "# <center>Business Analytics Programming II</center> \n",
    "# <center> 항공기 지연(Delay) 예측 ML모델 설계 및 개발을 통한 항공 지연 요소 탐색 </center>\n",
    "# <center> Team Project - EDA</center>\n",
    "### <div align = \"right\">Business Analytics</div> \n",
    "### <div align = \"right\">Group 3(전민석, 함보연, 지충근) </div>"
   ]
  },
  {
   "cell_type": "code",
   "execution_count": 12,
   "metadata": {},
   "outputs": [],
   "source": [
    "import random\n",
    "import os\n",
    "import numpy as np\n",
    "import pandas as pd\n",
    "\n",
    "from sklearn.model_selection import train_test_split, StratifiedKFold, GridSearchCV\n",
    "\n"
   ]
  },
  {
   "cell_type": "code",
   "execution_count": 15,
   "metadata": {},
   "outputs": [],
   "source": [
    "train = pd.read_excel('C:/flight.xlsx')"
   ]
  },
  {
   "cell_type": "code",
   "execution_count": 3,
   "metadata": {},
   "outputs": [
    {
     "data": {
      "text/html": [
       "<div>\n",
       "<style scoped>\n",
       "    .dataframe tbody tr th:only-of-type {\n",
       "        vertical-align: middle;\n",
       "    }\n",
       "\n",
       "    .dataframe tbody tr th {\n",
       "        vertical-align: top;\n",
       "    }\n",
       "\n",
       "    .dataframe thead th {\n",
       "        text-align: right;\n",
       "    }\n",
       "</style>\n",
       "<table border=\"1\" class=\"dataframe\">\n",
       "  <thead>\n",
       "    <tr style=\"text-align: right;\">\n",
       "      <th></th>\n",
       "      <th>ID</th>\n",
       "      <th>Month</th>\n",
       "      <th>Day_of_Month</th>\n",
       "      <th>Estimated_Departure_Time</th>\n",
       "      <th>Estimated_Arrival_Time</th>\n",
       "      <th>Cancelled</th>\n",
       "      <th>Diverted</th>\n",
       "      <th>Origin_Airport</th>\n",
       "      <th>Origin_Airport_ID</th>\n",
       "      <th>Origin_State</th>\n",
       "      <th>Destination_Airport</th>\n",
       "      <th>Destination_Airport_ID</th>\n",
       "      <th>Destination_State</th>\n",
       "      <th>Distance</th>\n",
       "      <th>Airline</th>\n",
       "      <th>Carrier_Code(IATA)</th>\n",
       "      <th>Carrier_ID(DOT)</th>\n",
       "      <th>Tail_Number</th>\n",
       "      <th>Delay</th>\n",
       "    </tr>\n",
       "  </thead>\n",
       "  <tbody>\n",
       "    <tr>\n",
       "      <th>0</th>\n",
       "      <td>TRAIN_000005</td>\n",
       "      <td>4</td>\n",
       "      <td>13</td>\n",
       "      <td>1545.0</td>\n",
       "      <td>NaN</td>\n",
       "      <td>0</td>\n",
       "      <td>0</td>\n",
       "      <td>EWR</td>\n",
       "      <td>11618</td>\n",
       "      <td>NaN</td>\n",
       "      <td>DCA</td>\n",
       "      <td>11278</td>\n",
       "      <td>Virginia</td>\n",
       "      <td>199</td>\n",
       "      <td>Republic Airlines</td>\n",
       "      <td>UA</td>\n",
       "      <td>20452.0</td>\n",
       "      <td>N657RW</td>\n",
       "      <td>Not_Delayed</td>\n",
       "    </tr>\n",
       "    <tr>\n",
       "      <th>1</th>\n",
       "      <td>TRAIN_000006</td>\n",
       "      <td>1</td>\n",
       "      <td>20</td>\n",
       "      <td>1742.0</td>\n",
       "      <td>1903.0</td>\n",
       "      <td>0</td>\n",
       "      <td>0</td>\n",
       "      <td>EWR</td>\n",
       "      <td>11618</td>\n",
       "      <td>New Jersey</td>\n",
       "      <td>BOS</td>\n",
       "      <td>10721</td>\n",
       "      <td>Massachusetts</td>\n",
       "      <td>200</td>\n",
       "      <td>United Air Lines Inc.</td>\n",
       "      <td>UA</td>\n",
       "      <td>NaN</td>\n",
       "      <td>N66825</td>\n",
       "      <td>Not_Delayed</td>\n",
       "    </tr>\n",
       "    <tr>\n",
       "      <th>2</th>\n",
       "      <td>TRAIN_000008</td>\n",
       "      <td>6</td>\n",
       "      <td>13</td>\n",
       "      <td>1420.0</td>\n",
       "      <td>1550.0</td>\n",
       "      <td>0</td>\n",
       "      <td>0</td>\n",
       "      <td>BWI</td>\n",
       "      <td>10821</td>\n",
       "      <td>NaN</td>\n",
       "      <td>CLT</td>\n",
       "      <td>11057</td>\n",
       "      <td>North Carolina</td>\n",
       "      <td>361</td>\n",
       "      <td>Southwest Airlines Co.</td>\n",
       "      <td>WN</td>\n",
       "      <td>19393.0</td>\n",
       "      <td>N765SW</td>\n",
       "      <td>Not_Delayed</td>\n",
       "    </tr>\n",
       "    <tr>\n",
       "      <th>3</th>\n",
       "      <td>TRAIN_000010</td>\n",
       "      <td>8</td>\n",
       "      <td>13</td>\n",
       "      <td>1730.0</td>\n",
       "      <td>1844.0</td>\n",
       "      <td>0</td>\n",
       "      <td>0</td>\n",
       "      <td>DCA</td>\n",
       "      <td>11278</td>\n",
       "      <td>Virginia</td>\n",
       "      <td>PIT</td>\n",
       "      <td>14122</td>\n",
       "      <td>Pennsylvania</td>\n",
       "      <td>204</td>\n",
       "      <td>Republic Airlines</td>\n",
       "      <td>AA</td>\n",
       "      <td>NaN</td>\n",
       "      <td>N119HQ</td>\n",
       "      <td>Delayed</td>\n",
       "    </tr>\n",
       "    <tr>\n",
       "      <th>4</th>\n",
       "      <td>TRAIN_000012</td>\n",
       "      <td>1</td>\n",
       "      <td>12</td>\n",
       "      <td>1015.0</td>\n",
       "      <td>1145.0</td>\n",
       "      <td>0</td>\n",
       "      <td>0</td>\n",
       "      <td>CLE</td>\n",
       "      <td>11042</td>\n",
       "      <td>Ohio</td>\n",
       "      <td>DEN</td>\n",
       "      <td>11292</td>\n",
       "      <td>Colorado</td>\n",
       "      <td>1201</td>\n",
       "      <td>Southwest Airlines Co.</td>\n",
       "      <td>WN</td>\n",
       "      <td>NaN</td>\n",
       "      <td>N8696E</td>\n",
       "      <td>Not_Delayed</td>\n",
       "    </tr>\n",
       "  </tbody>\n",
       "</table>\n",
       "</div>"
      ],
      "text/plain": [
       "             ID  Month  Day_of_Month  Estimated_Departure_Time  \\\n",
       "0  TRAIN_000005      4            13                    1545.0   \n",
       "1  TRAIN_000006      1            20                    1742.0   \n",
       "2  TRAIN_000008      6            13                    1420.0   \n",
       "3  TRAIN_000010      8            13                    1730.0   \n",
       "4  TRAIN_000012      1            12                    1015.0   \n",
       "\n",
       "   Estimated_Arrival_Time  Cancelled  Diverted Origin_Airport  \\\n",
       "0                     NaN          0         0            EWR   \n",
       "1                  1903.0          0         0            EWR   \n",
       "2                  1550.0          0         0            BWI   \n",
       "3                  1844.0          0         0            DCA   \n",
       "4                  1145.0          0         0            CLE   \n",
       "\n",
       "   Origin_Airport_ID Origin_State Destination_Airport  Destination_Airport_ID  \\\n",
       "0              11618          NaN                 DCA                   11278   \n",
       "1              11618   New Jersey                 BOS                   10721   \n",
       "2              10821          NaN                 CLT                   11057   \n",
       "3              11278     Virginia                 PIT                   14122   \n",
       "4              11042         Ohio                 DEN                   11292   \n",
       "\n",
       "  Destination_State  Distance                 Airline Carrier_Code(IATA)  \\\n",
       "0          Virginia       199       Republic Airlines                 UA   \n",
       "1     Massachusetts       200   United Air Lines Inc.                 UA   \n",
       "2    North Carolina       361  Southwest Airlines Co.                 WN   \n",
       "3      Pennsylvania       204       Republic Airlines                 AA   \n",
       "4          Colorado      1201  Southwest Airlines Co.                 WN   \n",
       "\n",
       "   Carrier_ID(DOT) Tail_Number        Delay  \n",
       "0          20452.0      N657RW  Not_Delayed  \n",
       "1              NaN      N66825  Not_Delayed  \n",
       "2          19393.0      N765SW  Not_Delayed  \n",
       "3              NaN      N119HQ      Delayed  \n",
       "4              NaN      N8696E  Not_Delayed  "
      ]
     },
     "execution_count": 3,
     "metadata": {},
     "output_type": "execute_result"
    }
   ],
   "source": [
    "train.head()"
   ]
  },
  {
   "cell_type": "markdown",
   "metadata": {},
   "source": [
    "## 1. 데이터 확인 - Estimated_Departure_Time, Estimated_Arrival_Time, Origin_State, Destination_State, Airline, Carrier_Code(IATA), Carrier_ID(DOT)에 NA 존재"
   ]
  },
  {
   "cell_type": "code",
   "execution_count": 4,
   "metadata": {},
   "outputs": [
    {
     "name": "stdout",
     "output_type": "stream",
     "text": [
      "<class 'pandas.core.frame.DataFrame'>\n",
      "RangeIndex: 255001 entries, 0 to 255000\n",
      "Data columns (total 19 columns):\n",
      " #   Column                    Non-Null Count   Dtype  \n",
      "---  ------                    --------------   -----  \n",
      " 0   ID                        255001 non-null  object \n",
      " 1   Month                     255001 non-null  int64  \n",
      " 2   Day_of_Month              255001 non-null  int64  \n",
      " 3   Estimated_Departure_Time  227160 non-null  float64\n",
      " 4   Estimated_Arrival_Time    227317 non-null  float64\n",
      " 5   Cancelled                 255001 non-null  int64  \n",
      " 6   Diverted                  255001 non-null  int64  \n",
      " 7   Origin_Airport            255001 non-null  object \n",
      " 8   Origin_Airport_ID         255001 non-null  int64  \n",
      " 9   Origin_State              227145 non-null  object \n",
      " 10  Destination_Airport       255001 non-null  object \n",
      " 11  Destination_Airport_ID    255001 non-null  int64  \n",
      " 12  Destination_State         227323 non-null  object \n",
      " 13  Distance                  255001 non-null  int64  \n",
      " 14  Airline                   227461 non-null  object \n",
      " 15  Carrier_Code(IATA)        227113 non-null  object \n",
      " 16  Carrier_ID(DOT)           227231 non-null  float64\n",
      " 17  Tail_Number               255001 non-null  object \n",
      " 18  Delay                     255001 non-null  object \n",
      "dtypes: float64(3), int64(7), object(9)\n",
      "memory usage: 37.0+ MB\n"
     ]
    }
   ],
   "source": [
    "train.info()"
   ]
  },
  {
   "cell_type": "code",
   "execution_count": 5,
   "metadata": {},
   "outputs": [
    {
     "data": {
      "text/html": [
       "<div>\n",
       "<style scoped>\n",
       "    .dataframe tbody tr th:only-of-type {\n",
       "        vertical-align: middle;\n",
       "    }\n",
       "\n",
       "    .dataframe tbody tr th {\n",
       "        vertical-align: top;\n",
       "    }\n",
       "\n",
       "    .dataframe thead th {\n",
       "        text-align: right;\n",
       "    }\n",
       "</style>\n",
       "<table border=\"1\" class=\"dataframe\">\n",
       "  <thead>\n",
       "    <tr style=\"text-align: right;\">\n",
       "      <th></th>\n",
       "      <th>Month</th>\n",
       "      <th>Day_of_Month</th>\n",
       "      <th>Estimated_Departure_Time</th>\n",
       "      <th>Estimated_Arrival_Time</th>\n",
       "      <th>Cancelled</th>\n",
       "      <th>Diverted</th>\n",
       "      <th>Origin_Airport_ID</th>\n",
       "      <th>Destination_Airport_ID</th>\n",
       "      <th>Distance</th>\n",
       "      <th>Carrier_ID(DOT)</th>\n",
       "    </tr>\n",
       "  </thead>\n",
       "  <tbody>\n",
       "    <tr>\n",
       "      <th>count</th>\n",
       "      <td>255001.000000</td>\n",
       "      <td>255001.000000</td>\n",
       "      <td>227160.000000</td>\n",
       "      <td>227317.000000</td>\n",
       "      <td>255001.0</td>\n",
       "      <td>255001.0</td>\n",
       "      <td>255001.000000</td>\n",
       "      <td>255001.000000</td>\n",
       "      <td>255001.000000</td>\n",
       "      <td>227231.000000</td>\n",
       "    </tr>\n",
       "    <tr>\n",
       "      <th>mean</th>\n",
       "      <td>6.967996</td>\n",
       "      <td>15.760028</td>\n",
       "      <td>1319.396624</td>\n",
       "      <td>1472.634691</td>\n",
       "      <td>0.0</td>\n",
       "      <td>0.0</td>\n",
       "      <td>12697.605570</td>\n",
       "      <td>12700.041635</td>\n",
       "      <td>779.949455</td>\n",
       "      <td>19995.621531</td>\n",
       "    </tr>\n",
       "    <tr>\n",
       "      <th>std</th>\n",
       "      <td>3.469944</td>\n",
       "      <td>8.794969</td>\n",
       "      <td>490.941713</td>\n",
       "      <td>517.545954</td>\n",
       "      <td>0.0</td>\n",
       "      <td>0.0</td>\n",
       "      <td>1516.020456</td>\n",
       "      <td>1515.893547</td>\n",
       "      <td>589.255800</td>\n",
       "      <td>403.702782</td>\n",
       "    </tr>\n",
       "    <tr>\n",
       "      <th>min</th>\n",
       "      <td>1.000000</td>\n",
       "      <td>1.000000</td>\n",
       "      <td>1.000000</td>\n",
       "      <td>1.000000</td>\n",
       "      <td>0.0</td>\n",
       "      <td>0.0</td>\n",
       "      <td>10135.000000</td>\n",
       "      <td>10135.000000</td>\n",
       "      <td>16.000000</td>\n",
       "      <td>19393.000000</td>\n",
       "    </tr>\n",
       "    <tr>\n",
       "      <th>25%</th>\n",
       "      <td>4.000000</td>\n",
       "      <td>8.000000</td>\n",
       "      <td>905.000000</td>\n",
       "      <td>1053.000000</td>\n",
       "      <td>0.0</td>\n",
       "      <td>0.0</td>\n",
       "      <td>11292.000000</td>\n",
       "      <td>11292.000000</td>\n",
       "      <td>349.000000</td>\n",
       "      <td>19790.000000</td>\n",
       "    </tr>\n",
       "    <tr>\n",
       "      <th>50%</th>\n",
       "      <td>7.000000</td>\n",
       "      <td>16.000000</td>\n",
       "      <td>1310.000000</td>\n",
       "      <td>1500.000000</td>\n",
       "      <td>0.0</td>\n",
       "      <td>0.0</td>\n",
       "      <td>12889.000000</td>\n",
       "      <td>12889.000000</td>\n",
       "      <td>620.000000</td>\n",
       "      <td>19977.000000</td>\n",
       "    </tr>\n",
       "    <tr>\n",
       "      <th>75%</th>\n",
       "      <td>10.000000</td>\n",
       "      <td>23.000000</td>\n",
       "      <td>1730.000000</td>\n",
       "      <td>1910.000000</td>\n",
       "      <td>0.0</td>\n",
       "      <td>0.0</td>\n",
       "      <td>14057.000000</td>\n",
       "      <td>14057.000000</td>\n",
       "      <td>1014.000000</td>\n",
       "      <td>20378.000000</td>\n",
       "    </tr>\n",
       "    <tr>\n",
       "      <th>max</th>\n",
       "      <td>12.000000</td>\n",
       "      <td>31.000000</td>\n",
       "      <td>2359.000000</td>\n",
       "      <td>2400.000000</td>\n",
       "      <td>0.0</td>\n",
       "      <td>0.0</td>\n",
       "      <td>16869.000000</td>\n",
       "      <td>16869.000000</td>\n",
       "      <td>5095.000000</td>\n",
       "      <td>21171.000000</td>\n",
       "    </tr>\n",
       "  </tbody>\n",
       "</table>\n",
       "</div>"
      ],
      "text/plain": [
       "               Month   Day_of_Month  Estimated_Departure_Time  \\\n",
       "count  255001.000000  255001.000000             227160.000000   \n",
       "mean        6.967996      15.760028               1319.396624   \n",
       "std         3.469944       8.794969                490.941713   \n",
       "min         1.000000       1.000000                  1.000000   \n",
       "25%         4.000000       8.000000                905.000000   \n",
       "50%         7.000000      16.000000               1310.000000   \n",
       "75%        10.000000      23.000000               1730.000000   \n",
       "max        12.000000      31.000000               2359.000000   \n",
       "\n",
       "       Estimated_Arrival_Time  Cancelled  Diverted  Origin_Airport_ID  \\\n",
       "count           227317.000000   255001.0  255001.0      255001.000000   \n",
       "mean              1472.634691        0.0       0.0       12697.605570   \n",
       "std                517.545954        0.0       0.0        1516.020456   \n",
       "min                  1.000000        0.0       0.0       10135.000000   \n",
       "25%               1053.000000        0.0       0.0       11292.000000   \n",
       "50%               1500.000000        0.0       0.0       12889.000000   \n",
       "75%               1910.000000        0.0       0.0       14057.000000   \n",
       "max               2400.000000        0.0       0.0       16869.000000   \n",
       "\n",
       "       Destination_Airport_ID       Distance  Carrier_ID(DOT)  \n",
       "count           255001.000000  255001.000000    227231.000000  \n",
       "mean             12700.041635     779.949455     19995.621531  \n",
       "std               1515.893547     589.255800       403.702782  \n",
       "min              10135.000000      16.000000     19393.000000  \n",
       "25%              11292.000000     349.000000     19790.000000  \n",
       "50%              12889.000000     620.000000     19977.000000  \n",
       "75%              14057.000000    1014.000000     20378.000000  \n",
       "max              16869.000000    5095.000000     21171.000000  "
      ]
     },
     "execution_count": 5,
     "metadata": {},
     "output_type": "execute_result"
    }
   ],
   "source": [
    "train.describe()"
   ]
  },
  {
   "cell_type": "markdown",
   "metadata": {},
   "source": [
    "## 2. 1차 데이터 Preprocessing"
   ]
  },
  {
   "cell_type": "markdown",
   "metadata": {},
   "source": [
    "### 1) 날자 변환 -  Month, Day_ofMonth 두개의 Column을 1년 366일(윤달 포함)로 변환한 Day Column 생성"
   ]
  },
  {
   "cell_type": "code",
   "execution_count": 6,
   "metadata": {},
   "outputs": [],
   "source": [
    "def to_days(x):\n",
    "    month_to_days = {1:0, 2:31, 3:60, 4:91, 5:121, 6:152, 7:182, 8:213, 9:244, 10:274, 11:305, 12:335}\n",
    "    return month_to_days[x]\n",
    "\n",
    "train.loc[:, 'Day'] = train['Month'].apply(lambda x: to_days(x))\n",
    "train['Day'] = train['Day'] + train['Day_of_Month']\n",
    "\n",
    "train = train.astype({'Day':object})"
   ]
  },
  {
   "cell_type": "markdown",
   "metadata": {},
   "source": [
    "### 2) 결측 Airline 데이터 복구 - Carrier_ID(DOT) 이용"
   ]
  },
  {
   "cell_type": "markdown",
   "metadata": {},
   "source": [
    "데이터의 설명을 보면 Carrier_ID(DOT)은 해당 항공사(Airline) 별로 하나가 할당(1대1 대응). 따라서, 둘 중 하나만 있어도 분류하는데 지장이 없으며(두 데이터는 서로 완전종속이기 때문에), 두 개 모두 결측치가 아닌 이상, 데이터 복구가 가능하다고 가정을 할 수 있다.\n",
    "따라서, 먼저 복구 가능한 데이터의 개수 (Carrier_ID(DOT)이 존재하면서, Airline이 존재 안하는 row의 개수)를 확인한 후, Airline과 Carrier_ID(DOT)을 이어주는 dictionary 를 만들어서 가능한 Airline를 복구합니다.\n",
    "###  - carrier_ID(DOT) 을 통해 복구 가능한 Airline데이터의 개수 파악 및 복구(24,555개)"
   ]
  },
  {
   "cell_type": "code",
   "execution_count": 7,
   "metadata": {},
   "outputs": [
    {
     "name": "stdout",
     "output_type": "stream",
     "text": [
      "Airline 복구 가능한 데이터의 개수 : 24555\n"
     ]
    }
   ],
   "source": [
    "cond1 = ~train['Carrier_ID(DOT)'].isnull()\n",
    "cond2 = train['Airline'].isnull()\n",
    "print(\"Airline 복구 가능한 데이터의 개수 :\", len(train.loc[cond1 & cond2, :]))"
   ]
  },
  {
   "cell_type": "markdown",
   "metadata": {},
   "source": [
    "### - Carrier_ID(DOT) to Airline dictinary 만들기"
   ]
  },
  {
   "cell_type": "code",
   "execution_count": 8,
   "metadata": {},
   "outputs": [],
   "source": [
    "# airline to carrier id, dictinary 만들기\n",
    "# 모두 데이터가 존재하는 열에서 Dict[Airline] = carrier_ID(DOT) 가 되도록 dictionary 생성\n",
    "cid_to_airline = {}\n",
    "for _, row in train[(~train['Carrier_ID(DOT)'].isnull() & ~train['Airline'].isnull())].iterrows():\n",
    "    cid_to_airline[row['Carrier_ID(DOT)']] = row['Airline']"
   ]
  },
  {
   "cell_type": "markdown",
   "metadata": {},
   "source": [
    "### - Airline 복구"
   ]
  },
  {
   "cell_type": "code",
   "execution_count": 9,
   "metadata": {},
   "outputs": [],
   "source": [
    "# 복구하기\n",
    "def to_cid(x):\n",
    "    return cid_to_airline[x]\n",
    "\n",
    "cond1 = ~train['Carrier_ID(DOT)'].isnull()\n",
    "cond2 = train['Airline'].isnull()\n",
    "train.loc[cond1&cond2, 'Airline'] = train.loc[cond1&cond2, 'Carrier_ID(DOT)'].apply(lambda x: to_cid(x))"
   ]
  },
  {
   "cell_type": "markdown",
   "metadata": {},
   "source": [
    "### - 복구 안 된 Carrier_ID는 학습에 방해되므로 제거(2,985개)"
   ]
  },
  {
   "cell_type": "code",
   "execution_count": 10,
   "metadata": {},
   "outputs": [
    {
     "data": {
      "text/plain": [
       "2985"
      ]
     },
     "execution_count": 10,
     "metadata": {},
     "output_type": "execute_result"
    }
   ],
   "source": [
    "train['Airline'].isnull().sum()"
   ]
  },
  {
   "cell_type": "code",
   "execution_count": 11,
   "metadata": {},
   "outputs": [],
   "source": [
    "train = train.dropna(subset=['Airline'], how='any', axis=0)"
   ]
  },
  {
   "cell_type": "markdown",
   "metadata": {},
   "source": [
    "### 3) Arrival Time & Departure Time 변환  </n>\n",
    "### - 1440분(1일 = 60분 * 24)으로 바꿔주기"
   ]
  },
  {
   "cell_type": "code",
   "execution_count": 12,
   "metadata": {},
   "outputs": [],
   "source": [
    "def to_minutes(x):\n",
    "    x = int(x)\n",
    "    x = str(x)\n",
    "    if len(x) > 2:\n",
    "        hours, mins = int(x[:-2]), int(x[-2:])\n",
    "    else:\n",
    "        hours, mins = 0, int(x[-2:])\n",
    "    return hours*60+mins\n",
    "\n",
    "estimated_times = ['Estimated_Departure_Time', 'Estimated_Arrival_Time']\n",
    "\n",
    "for ET in estimated_times:\n",
    "    cond = ~train[ET].isnull()\n",
    "    train.loc[cond, ET] = train.loc[cond, ET].apply(lambda x: to_minutes(x))"
   ]
  },
  {
   "cell_type": "markdown",
   "metadata": {},
   "source": [
    "### - Arrival Time & Departure Time NA값 제거하기"
   ]
  },
  {
   "cell_type": "code",
   "execution_count": 13,
   "metadata": {},
   "outputs": [],
   "source": [
    "train = train.dropna(subset=['Estimated_Arrival_Time', 'Estimated_Departure_Time'], axis=0)"
   ]
  },
  {
   "cell_type": "markdown",
   "metadata": {},
   "source": [
    "### 4) Arrival Time & Departure Time을 이용해 비행시간 계산하기\n"
   ]
  },
  {
   "cell_type": "code",
   "execution_count": 14,
   "metadata": {},
   "outputs": [],
   "source": [
    "train['Flight_Time'] = train['Estimated_Arrival_Time'] - train['Estimated_Departure_Time']"
   ]
  },
  {
   "cell_type": "markdown",
   "metadata": {},
   "source": [
    "### 5) 1차전처리 결과 확인"
   ]
  },
  {
   "cell_type": "code",
   "execution_count": 15,
   "metadata": {
    "scrolled": true
   },
   "outputs": [
    {
     "data": {
      "text/html": [
       "<div>\n",
       "<style scoped>\n",
       "    .dataframe tbody tr th:only-of-type {\n",
       "        vertical-align: middle;\n",
       "    }\n",
       "\n",
       "    .dataframe tbody tr th {\n",
       "        vertical-align: top;\n",
       "    }\n",
       "\n",
       "    .dataframe thead th {\n",
       "        text-align: right;\n",
       "    }\n",
       "</style>\n",
       "<table border=\"1\" class=\"dataframe\">\n",
       "  <thead>\n",
       "    <tr style=\"text-align: right;\">\n",
       "      <th></th>\n",
       "      <th>ID</th>\n",
       "      <th>Month</th>\n",
       "      <th>Day_of_Month</th>\n",
       "      <th>Estimated_Departure_Time</th>\n",
       "      <th>Estimated_Arrival_Time</th>\n",
       "      <th>Cancelled</th>\n",
       "      <th>Diverted</th>\n",
       "      <th>Origin_Airport</th>\n",
       "      <th>Origin_Airport_ID</th>\n",
       "      <th>Origin_State</th>\n",
       "      <th>...</th>\n",
       "      <th>Destination_Airport_ID</th>\n",
       "      <th>Destination_State</th>\n",
       "      <th>Distance</th>\n",
       "      <th>Airline</th>\n",
       "      <th>Carrier_Code(IATA)</th>\n",
       "      <th>Carrier_ID(DOT)</th>\n",
       "      <th>Tail_Number</th>\n",
       "      <th>Delay</th>\n",
       "      <th>Day</th>\n",
       "      <th>Flight_Time</th>\n",
       "    </tr>\n",
       "  </thead>\n",
       "  <tbody>\n",
       "    <tr>\n",
       "      <th>1</th>\n",
       "      <td>TRAIN_000006</td>\n",
       "      <td>1</td>\n",
       "      <td>20</td>\n",
       "      <td>1062.0</td>\n",
       "      <td>1143.0</td>\n",
       "      <td>0</td>\n",
       "      <td>0</td>\n",
       "      <td>EWR</td>\n",
       "      <td>11618</td>\n",
       "      <td>New Jersey</td>\n",
       "      <td>...</td>\n",
       "      <td>10721</td>\n",
       "      <td>Massachusetts</td>\n",
       "      <td>200</td>\n",
       "      <td>United Air Lines Inc.</td>\n",
       "      <td>UA</td>\n",
       "      <td>NaN</td>\n",
       "      <td>N66825</td>\n",
       "      <td>Not_Delayed</td>\n",
       "      <td>20</td>\n",
       "      <td>81.0</td>\n",
       "    </tr>\n",
       "    <tr>\n",
       "      <th>2</th>\n",
       "      <td>TRAIN_000008</td>\n",
       "      <td>6</td>\n",
       "      <td>13</td>\n",
       "      <td>860.0</td>\n",
       "      <td>950.0</td>\n",
       "      <td>0</td>\n",
       "      <td>0</td>\n",
       "      <td>BWI</td>\n",
       "      <td>10821</td>\n",
       "      <td>NaN</td>\n",
       "      <td>...</td>\n",
       "      <td>11057</td>\n",
       "      <td>North Carolina</td>\n",
       "      <td>361</td>\n",
       "      <td>Southwest Airlines Co.</td>\n",
       "      <td>WN</td>\n",
       "      <td>19393.0</td>\n",
       "      <td>N765SW</td>\n",
       "      <td>Not_Delayed</td>\n",
       "      <td>165</td>\n",
       "      <td>90.0</td>\n",
       "    </tr>\n",
       "    <tr>\n",
       "      <th>3</th>\n",
       "      <td>TRAIN_000010</td>\n",
       "      <td>8</td>\n",
       "      <td>13</td>\n",
       "      <td>1050.0</td>\n",
       "      <td>1124.0</td>\n",
       "      <td>0</td>\n",
       "      <td>0</td>\n",
       "      <td>DCA</td>\n",
       "      <td>11278</td>\n",
       "      <td>Virginia</td>\n",
       "      <td>...</td>\n",
       "      <td>14122</td>\n",
       "      <td>Pennsylvania</td>\n",
       "      <td>204</td>\n",
       "      <td>Republic Airlines</td>\n",
       "      <td>AA</td>\n",
       "      <td>NaN</td>\n",
       "      <td>N119HQ</td>\n",
       "      <td>Delayed</td>\n",
       "      <td>226</td>\n",
       "      <td>74.0</td>\n",
       "    </tr>\n",
       "    <tr>\n",
       "      <th>4</th>\n",
       "      <td>TRAIN_000012</td>\n",
       "      <td>1</td>\n",
       "      <td>12</td>\n",
       "      <td>615.0</td>\n",
       "      <td>705.0</td>\n",
       "      <td>0</td>\n",
       "      <td>0</td>\n",
       "      <td>CLE</td>\n",
       "      <td>11042</td>\n",
       "      <td>Ohio</td>\n",
       "      <td>...</td>\n",
       "      <td>11292</td>\n",
       "      <td>Colorado</td>\n",
       "      <td>1201</td>\n",
       "      <td>Southwest Airlines Co.</td>\n",
       "      <td>WN</td>\n",
       "      <td>NaN</td>\n",
       "      <td>N8696E</td>\n",
       "      <td>Not_Delayed</td>\n",
       "      <td>12</td>\n",
       "      <td>90.0</td>\n",
       "    </tr>\n",
       "    <tr>\n",
       "      <th>5</th>\n",
       "      <td>TRAIN_000013</td>\n",
       "      <td>9</td>\n",
       "      <td>19</td>\n",
       "      <td>375.0</td>\n",
       "      <td>426.0</td>\n",
       "      <td>0</td>\n",
       "      <td>0</td>\n",
       "      <td>MAF</td>\n",
       "      <td>13158</td>\n",
       "      <td>Texas</td>\n",
       "      <td>...</td>\n",
       "      <td>11292</td>\n",
       "      <td>Colorado</td>\n",
       "      <td>563</td>\n",
       "      <td>SkyWest Airlines Inc.</td>\n",
       "      <td>UA</td>\n",
       "      <td>20304.0</td>\n",
       "      <td>N165SY</td>\n",
       "      <td>Not_Delayed</td>\n",
       "      <td>263</td>\n",
       "      <td>51.0</td>\n",
       "    </tr>\n",
       "  </tbody>\n",
       "</table>\n",
       "<p>5 rows × 21 columns</p>\n",
       "</div>"
      ],
      "text/plain": [
       "             ID  Month  Day_of_Month  Estimated_Departure_Time  \\\n",
       "1  TRAIN_000006      1            20                    1062.0   \n",
       "2  TRAIN_000008      6            13                     860.0   \n",
       "3  TRAIN_000010      8            13                    1050.0   \n",
       "4  TRAIN_000012      1            12                     615.0   \n",
       "5  TRAIN_000013      9            19                     375.0   \n",
       "\n",
       "   Estimated_Arrival_Time  Cancelled  Diverted Origin_Airport  \\\n",
       "1                  1143.0          0         0            EWR   \n",
       "2                   950.0          0         0            BWI   \n",
       "3                  1124.0          0         0            DCA   \n",
       "4                   705.0          0         0            CLE   \n",
       "5                   426.0          0         0            MAF   \n",
       "\n",
       "   Origin_Airport_ID Origin_State  ... Destination_Airport_ID  \\\n",
       "1              11618   New Jersey  ...                  10721   \n",
       "2              10821          NaN  ...                  11057   \n",
       "3              11278     Virginia  ...                  14122   \n",
       "4              11042         Ohio  ...                  11292   \n",
       "5              13158        Texas  ...                  11292   \n",
       "\n",
       "   Destination_State Distance                 Airline Carrier_Code(IATA)  \\\n",
       "1      Massachusetts      200   United Air Lines Inc.                 UA   \n",
       "2     North Carolina      361  Southwest Airlines Co.                 WN   \n",
       "3       Pennsylvania      204       Republic Airlines                 AA   \n",
       "4           Colorado     1201  Southwest Airlines Co.                 WN   \n",
       "5           Colorado      563   SkyWest Airlines Inc.                 UA   \n",
       "\n",
       "  Carrier_ID(DOT)  Tail_Number        Delay  Day Flight_Time  \n",
       "1             NaN       N66825  Not_Delayed   20        81.0  \n",
       "2         19393.0       N765SW  Not_Delayed  165        90.0  \n",
       "3             NaN       N119HQ      Delayed  226        74.0  \n",
       "4             NaN       N8696E  Not_Delayed   12        90.0  \n",
       "5         20304.0       N165SY  Not_Delayed  263        51.0  \n",
       "\n",
       "[5 rows x 21 columns]"
      ]
     },
     "execution_count": 15,
     "metadata": {},
     "output_type": "execute_result"
    }
   ],
   "source": [
    "train.head()"
   ]
  },
  {
   "cell_type": "markdown",
   "metadata": {},
   "source": [
    "### 6) 사용하지 않는 column Drop"
   ]
  },
  {
   "cell_type": "code",
   "execution_count": 16,
   "metadata": {},
   "outputs": [],
   "source": [
    "train = train.drop(['ID', 'Month', 'Day_of_Month', 'Cancelled', 'Diverted', 'Origin_Airport', 'Destination_Airport', 'Carrier_Code(IATA)','Carrier_ID(DOT)', 'Origin_State', 'Destination_State'], axis=1)\n"
   ]
  },
  {
   "cell_type": "markdown",
   "metadata": {},
   "source": [
    "### 7) 2차 전처리 이전의 최종 Table -  알고리즘에 맞게 2차 전처리 예정"
   ]
  },
  {
   "cell_type": "code",
   "execution_count": 17,
   "metadata": {},
   "outputs": [
    {
     "data": {
      "text/html": [
       "<div>\n",
       "<style scoped>\n",
       "    .dataframe tbody tr th:only-of-type {\n",
       "        vertical-align: middle;\n",
       "    }\n",
       "\n",
       "    .dataframe tbody tr th {\n",
       "        vertical-align: top;\n",
       "    }\n",
       "\n",
       "    .dataframe thead th {\n",
       "        text-align: right;\n",
       "    }\n",
       "</style>\n",
       "<table border=\"1\" class=\"dataframe\">\n",
       "  <thead>\n",
       "    <tr style=\"text-align: right;\">\n",
       "      <th></th>\n",
       "      <th>Estimated_Departure_Time</th>\n",
       "      <th>Estimated_Arrival_Time</th>\n",
       "      <th>Origin_Airport_ID</th>\n",
       "      <th>Destination_Airport_ID</th>\n",
       "      <th>Distance</th>\n",
       "      <th>Airline</th>\n",
       "      <th>Tail_Number</th>\n",
       "      <th>Delay</th>\n",
       "      <th>Day</th>\n",
       "      <th>Flight_Time</th>\n",
       "    </tr>\n",
       "  </thead>\n",
       "  <tbody>\n",
       "    <tr>\n",
       "      <th>1</th>\n",
       "      <td>1062.0</td>\n",
       "      <td>1143.0</td>\n",
       "      <td>11618</td>\n",
       "      <td>10721</td>\n",
       "      <td>200</td>\n",
       "      <td>United Air Lines Inc.</td>\n",
       "      <td>N66825</td>\n",
       "      <td>Not_Delayed</td>\n",
       "      <td>20</td>\n",
       "      <td>81.0</td>\n",
       "    </tr>\n",
       "    <tr>\n",
       "      <th>2</th>\n",
       "      <td>860.0</td>\n",
       "      <td>950.0</td>\n",
       "      <td>10821</td>\n",
       "      <td>11057</td>\n",
       "      <td>361</td>\n",
       "      <td>Southwest Airlines Co.</td>\n",
       "      <td>N765SW</td>\n",
       "      <td>Not_Delayed</td>\n",
       "      <td>165</td>\n",
       "      <td>90.0</td>\n",
       "    </tr>\n",
       "    <tr>\n",
       "      <th>3</th>\n",
       "      <td>1050.0</td>\n",
       "      <td>1124.0</td>\n",
       "      <td>11278</td>\n",
       "      <td>14122</td>\n",
       "      <td>204</td>\n",
       "      <td>Republic Airlines</td>\n",
       "      <td>N119HQ</td>\n",
       "      <td>Delayed</td>\n",
       "      <td>226</td>\n",
       "      <td>74.0</td>\n",
       "    </tr>\n",
       "    <tr>\n",
       "      <th>4</th>\n",
       "      <td>615.0</td>\n",
       "      <td>705.0</td>\n",
       "      <td>11042</td>\n",
       "      <td>11292</td>\n",
       "      <td>1201</td>\n",
       "      <td>Southwest Airlines Co.</td>\n",
       "      <td>N8696E</td>\n",
       "      <td>Not_Delayed</td>\n",
       "      <td>12</td>\n",
       "      <td>90.0</td>\n",
       "    </tr>\n",
       "    <tr>\n",
       "      <th>5</th>\n",
       "      <td>375.0</td>\n",
       "      <td>426.0</td>\n",
       "      <td>13158</td>\n",
       "      <td>11292</td>\n",
       "      <td>563</td>\n",
       "      <td>SkyWest Airlines Inc.</td>\n",
       "      <td>N165SY</td>\n",
       "      <td>Not_Delayed</td>\n",
       "      <td>263</td>\n",
       "      <td>51.0</td>\n",
       "    </tr>\n",
       "  </tbody>\n",
       "</table>\n",
       "</div>"
      ],
      "text/plain": [
       "   Estimated_Departure_Time  Estimated_Arrival_Time  Origin_Airport_ID  \\\n",
       "1                    1062.0                  1143.0              11618   \n",
       "2                     860.0                   950.0              10821   \n",
       "3                    1050.0                  1124.0              11278   \n",
       "4                     615.0                   705.0              11042   \n",
       "5                     375.0                   426.0              13158   \n",
       "\n",
       "   Destination_Airport_ID  Distance                 Airline Tail_Number  \\\n",
       "1                   10721       200   United Air Lines Inc.      N66825   \n",
       "2                   11057       361  Southwest Airlines Co.      N765SW   \n",
       "3                   14122       204       Republic Airlines      N119HQ   \n",
       "4                   11292      1201  Southwest Airlines Co.      N8696E   \n",
       "5                   11292       563   SkyWest Airlines Inc.      N165SY   \n",
       "\n",
       "         Delay  Day  Flight_Time  \n",
       "1  Not_Delayed   20         81.0  \n",
       "2  Not_Delayed  165         90.0  \n",
       "3      Delayed  226         74.0  \n",
       "4  Not_Delayed   12         90.0  \n",
       "5  Not_Delayed  263         51.0  "
      ]
     },
     "execution_count": 17,
     "metadata": {},
     "output_type": "execute_result"
    }
   ],
   "source": [
    "train.head()"
   ]
  },
  {
   "cell_type": "code",
   "execution_count": 18,
   "metadata": {},
   "outputs": [
    {
     "name": "stdout",
     "output_type": "stream",
     "text": [
      "<class 'pandas.core.frame.DataFrame'>\n",
      "Int64Index: 200121 entries, 1 to 255000\n",
      "Data columns (total 10 columns):\n",
      " #   Column                    Non-Null Count   Dtype  \n",
      "---  ------                    --------------   -----  \n",
      " 0   Estimated_Departure_Time  200121 non-null  float64\n",
      " 1   Estimated_Arrival_Time    200121 non-null  float64\n",
      " 2   Origin_Airport_ID         200121 non-null  int64  \n",
      " 3   Destination_Airport_ID    200121 non-null  int64  \n",
      " 4   Distance                  200121 non-null  int64  \n",
      " 5   Airline                   200121 non-null  object \n",
      " 6   Tail_Number               200121 non-null  object \n",
      " 7   Delay                     200121 non-null  object \n",
      " 8   Day                       200121 non-null  object \n",
      " 9   Flight_Time               200121 non-null  float64\n",
      "dtypes: float64(3), int64(3), object(4)\n",
      "memory usage: 16.8+ MB\n"
     ]
    }
   ],
   "source": [
    "train.info()"
   ]
  },
  {
   "cell_type": "code",
   "execution_count": 19,
   "metadata": {},
   "outputs": [
    {
     "data": {
      "text/html": [
       "<div>\n",
       "<style scoped>\n",
       "    .dataframe tbody tr th:only-of-type {\n",
       "        vertical-align: middle;\n",
       "    }\n",
       "\n",
       "    .dataframe tbody tr th {\n",
       "        vertical-align: top;\n",
       "    }\n",
       "\n",
       "    .dataframe thead th {\n",
       "        text-align: right;\n",
       "    }\n",
       "</style>\n",
       "<table border=\"1\" class=\"dataframe\">\n",
       "  <thead>\n",
       "    <tr style=\"text-align: right;\">\n",
       "      <th></th>\n",
       "      <th>Estimated_Departure_Time</th>\n",
       "      <th>Estimated_Arrival_Time</th>\n",
       "      <th>Origin_Airport_ID</th>\n",
       "      <th>Destination_Airport_ID</th>\n",
       "      <th>Distance</th>\n",
       "      <th>Flight_Time</th>\n",
       "    </tr>\n",
       "  </thead>\n",
       "  <tbody>\n",
       "    <tr>\n",
       "      <th>count</th>\n",
       "      <td>200121.000000</td>\n",
       "      <td>200121.000000</td>\n",
       "      <td>200121.000000</td>\n",
       "      <td>200121.000000</td>\n",
       "      <td>200121.000000</td>\n",
       "      <td>200121.000000</td>\n",
       "    </tr>\n",
       "    <tr>\n",
       "      <th>mean</th>\n",
       "      <td>802.499793</td>\n",
       "      <td>895.387995</td>\n",
       "      <td>12697.347795</td>\n",
       "      <td>12700.589358</td>\n",
       "      <td>779.442642</td>\n",
       "      <td>92.888203</td>\n",
       "    </tr>\n",
       "    <tr>\n",
       "      <th>std</th>\n",
       "      <td>295.266908</td>\n",
       "      <td>310.524394</td>\n",
       "      <td>1516.817688</td>\n",
       "      <td>1516.390740</td>\n",
       "      <td>589.221524</td>\n",
       "      <td>237.817874</td>\n",
       "    </tr>\n",
       "    <tr>\n",
       "      <th>min</th>\n",
       "      <td>1.000000</td>\n",
       "      <td>1.000000</td>\n",
       "      <td>10135.000000</td>\n",
       "      <td>10135.000000</td>\n",
       "      <td>16.000000</td>\n",
       "      <td>-1414.000000</td>\n",
       "    </tr>\n",
       "    <tr>\n",
       "      <th>25%</th>\n",
       "      <td>545.000000</td>\n",
       "      <td>654.000000</td>\n",
       "      <td>11292.000000</td>\n",
       "      <td>11292.000000</td>\n",
       "      <td>349.000000</td>\n",
       "      <td>76.000000</td>\n",
       "    </tr>\n",
       "    <tr>\n",
       "      <th>50%</th>\n",
       "      <td>790.000000</td>\n",
       "      <td>900.000000</td>\n",
       "      <td>12889.000000</td>\n",
       "      <td>12889.000000</td>\n",
       "      <td>618.000000</td>\n",
       "      <td>107.000000</td>\n",
       "    </tr>\n",
       "    <tr>\n",
       "      <th>75%</th>\n",
       "      <td>1050.000000</td>\n",
       "      <td>1150.000000</td>\n",
       "      <td>14057.000000</td>\n",
       "      <td>14057.000000</td>\n",
       "      <td>1014.000000</td>\n",
       "      <td>164.000000</td>\n",
       "    </tr>\n",
       "    <tr>\n",
       "      <th>max</th>\n",
       "      <td>1439.000000</td>\n",
       "      <td>1440.000000</td>\n",
       "      <td>16869.000000</td>\n",
       "      <td>16869.000000</td>\n",
       "      <td>5095.000000</td>\n",
       "      <td>675.000000</td>\n",
       "    </tr>\n",
       "  </tbody>\n",
       "</table>\n",
       "</div>"
      ],
      "text/plain": [
       "       Estimated_Departure_Time  Estimated_Arrival_Time  Origin_Airport_ID  \\\n",
       "count             200121.000000           200121.000000      200121.000000   \n",
       "mean                 802.499793              895.387995       12697.347795   \n",
       "std                  295.266908              310.524394        1516.817688   \n",
       "min                    1.000000                1.000000       10135.000000   \n",
       "25%                  545.000000              654.000000       11292.000000   \n",
       "50%                  790.000000              900.000000       12889.000000   \n",
       "75%                 1050.000000             1150.000000       14057.000000   \n",
       "max                 1439.000000             1440.000000       16869.000000   \n",
       "\n",
       "       Destination_Airport_ID       Distance    Flight_Time  \n",
       "count           200121.000000  200121.000000  200121.000000  \n",
       "mean             12700.589358     779.442642      92.888203  \n",
       "std               1516.390740     589.221524     237.817874  \n",
       "min              10135.000000      16.000000   -1414.000000  \n",
       "25%              11292.000000     349.000000      76.000000  \n",
       "50%              12889.000000     618.000000     107.000000  \n",
       "75%              14057.000000    1014.000000     164.000000  \n",
       "max              16869.000000    5095.000000     675.000000  "
      ]
     },
     "execution_count": 19,
     "metadata": {},
     "output_type": "execute_result"
    }
   ],
   "source": [
    "train.describe()"
   ]
  },
  {
   "cell_type": "markdown",
   "metadata": {},
   "source": [
    "## 3. 2차 Data Preprocessing (Object변환 for CatBoost)"
   ]
  },
  {
   "cell_type": "markdown",
   "metadata": {},
   "source": [
    "CatBoost는 Category 변수를 활용한 분류에 최적화된 알고리즘으로 알고리즘에 데이터를 학습시키기 위해 모든 변수들의 Data Type을 Object형태로 변환하여 적용하는 과정이 필수적이다."
   ]
  },
  {
   "cell_type": "markdown",
   "metadata": {},
   "source": [
    "### 1) EDT, EAT 의 Object 처리"
   ]
  },
  {
   "cell_type": "markdown",
   "metadata": {},
   "source": [
    "특정 비행기 출발 혹은 도착 시간대가 비행기 연착에 영향을 미칠 것으로 생각했습니다. 따라서 EDT, EAT경우 30분 단위로 48개의 bin에 담아서 object화 해주었습니다. 그렇게 함으로써 비슷한 시간대의 출/도착편(30분 단위)은 같은 특성을 갖도록 했습니다."
   ]
  },
  {
   "cell_type": "code",
   "execution_count": 20,
   "metadata": {},
   "outputs": [],
   "source": [
    "# EDT, EAT 48개의 bins에 담으면 된다. 1440(60*24) 계니까, 48씩 끊어서 하면 될 듯\n",
    "estimate_times = ['Estimated_Departure_Time', 'Estimated_Arrival_Time']\n",
    "names = {'Estimated_Departure_Time':'EDT', 'Estimated_Arrival_Time':'EAT'}\n",
    "for ET in estimated_times:\n",
    "    for i in range(48):\n",
    "        train.loc[train[ET].between(i*30, (i+1)*30, 'left'), names[ET]] = i\n",
    "\n",
    "train = train.astype({'EDT':int, 'EAT':int})\n",
    "\n",
    "train = train.drop(['Estimated_Departure_Time', 'Estimated_Arrival_Time'], axis=1)"
   ]
  },
  {
   "cell_type": "markdown",
   "metadata": {},
   "source": [
    "### 2) Flight_Time 의 Object 처리"
   ]
  },
  {
   "cell_type": "markdown",
   "metadata": {},
   "source": [
    "특정 비행소요시간이 비행기 연착에 영향을 미칠 것으로 생각했습니다. 따라서 비행시간(Flight_Time)을경우 30분 단위로 23개(Flight_Time의 Max = 675)의 bin에 담아서 object화 해주었습니다. 그렇게 함으로써 비슷한 비행시간(30분 단위)은 같은 특성을 갖도록 했습니다."
   ]
  },
  {
   "cell_type": "code",
   "execution_count": 21,
   "metadata": {},
   "outputs": [],
   "source": [
    "train['FT'] = train['Flight_Time']//30\n",
    "train = train.drop(['Flight_Time'], axis=1)"
   ]
  },
  {
   "cell_type": "markdown",
   "metadata": {},
   "source": [
    "### 3) Distance 의 Object 처리"
   ]
  },
  {
   "cell_type": "markdown",
   "metadata": {},
   "source": [
    "특정 비행거리가 비행기 연착에 영향을 미칠 것으로 생각했습니다. 따라서 비행거리(Distance)을경우 100mile 단위로 51개(Distance의 Max = 5,100)의 bin에 담아서 object화 해주었습니다. 그렇게 함으로써 비슷한 비행거리(100mile 단위)은 같은 특성을 갖도록 했습니다."
   ]
  },
  {
   "cell_type": "code",
   "execution_count": 22,
   "metadata": {},
   "outputs": [],
   "source": [
    "for i in range(51):\n",
    "    train.loc[train['Distance'].between(i*100, (i+1)*100, 'left'), 'Distance'] = i\n",
    "\n",
    "train = train.astype({'Distance':int})\n",
    "\n"
   ]
  },
  {
   "cell_type": "markdown",
   "metadata": {},
   "source": [
    "### 4) 전체 변수의 Object 변환"
   ]
  },
  {
   "cell_type": "code",
   "execution_count": 23,
   "metadata": {},
   "outputs": [],
   "source": [
    "train = train.astype({'EDT':object, 'EAT':object, 'Distance':object, 'Origin_Airport_ID':object, 'Destination_Airport_ID':object, 'Airline':object, 'Tail_Number':object, 'FT':object})"
   ]
  },
  {
   "cell_type": "markdown",
   "metadata": {},
   "source": [
    "## CatBoost 적용을 위한 Dataset "
   ]
  },
  {
   "cell_type": "code",
   "execution_count": 24,
   "metadata": {},
   "outputs": [
    {
     "data": {
      "text/html": [
       "<div>\n",
       "<style scoped>\n",
       "    .dataframe tbody tr th:only-of-type {\n",
       "        vertical-align: middle;\n",
       "    }\n",
       "\n",
       "    .dataframe tbody tr th {\n",
       "        vertical-align: top;\n",
       "    }\n",
       "\n",
       "    .dataframe thead th {\n",
       "        text-align: right;\n",
       "    }\n",
       "</style>\n",
       "<table border=\"1\" class=\"dataframe\">\n",
       "  <thead>\n",
       "    <tr style=\"text-align: right;\">\n",
       "      <th></th>\n",
       "      <th>Origin_Airport_ID</th>\n",
       "      <th>Destination_Airport_ID</th>\n",
       "      <th>Distance</th>\n",
       "      <th>Airline</th>\n",
       "      <th>Tail_Number</th>\n",
       "      <th>Delay</th>\n",
       "      <th>Day</th>\n",
       "      <th>EDT</th>\n",
       "      <th>EAT</th>\n",
       "      <th>FT</th>\n",
       "    </tr>\n",
       "  </thead>\n",
       "  <tbody>\n",
       "    <tr>\n",
       "      <th>1</th>\n",
       "      <td>11618</td>\n",
       "      <td>10721</td>\n",
       "      <td>1</td>\n",
       "      <td>United Air Lines Inc.</td>\n",
       "      <td>N66825</td>\n",
       "      <td>Not_Delayed</td>\n",
       "      <td>20</td>\n",
       "      <td>35</td>\n",
       "      <td>38</td>\n",
       "      <td>2</td>\n",
       "    </tr>\n",
       "    <tr>\n",
       "      <th>2</th>\n",
       "      <td>10821</td>\n",
       "      <td>11057</td>\n",
       "      <td>3</td>\n",
       "      <td>Southwest Airlines Co.</td>\n",
       "      <td>N765SW</td>\n",
       "      <td>Not_Delayed</td>\n",
       "      <td>165</td>\n",
       "      <td>28</td>\n",
       "      <td>31</td>\n",
       "      <td>3</td>\n",
       "    </tr>\n",
       "    <tr>\n",
       "      <th>3</th>\n",
       "      <td>11278</td>\n",
       "      <td>14122</td>\n",
       "      <td>2</td>\n",
       "      <td>Republic Airlines</td>\n",
       "      <td>N119HQ</td>\n",
       "      <td>Delayed</td>\n",
       "      <td>226</td>\n",
       "      <td>35</td>\n",
       "      <td>37</td>\n",
       "      <td>2</td>\n",
       "    </tr>\n",
       "    <tr>\n",
       "      <th>4</th>\n",
       "      <td>11042</td>\n",
       "      <td>11292</td>\n",
       "      <td>12</td>\n",
       "      <td>Southwest Airlines Co.</td>\n",
       "      <td>N8696E</td>\n",
       "      <td>Not_Delayed</td>\n",
       "      <td>12</td>\n",
       "      <td>20</td>\n",
       "      <td>23</td>\n",
       "      <td>3</td>\n",
       "    </tr>\n",
       "    <tr>\n",
       "      <th>5</th>\n",
       "      <td>13158</td>\n",
       "      <td>11292</td>\n",
       "      <td>5</td>\n",
       "      <td>SkyWest Airlines Inc.</td>\n",
       "      <td>N165SY</td>\n",
       "      <td>Not_Delayed</td>\n",
       "      <td>263</td>\n",
       "      <td>12</td>\n",
       "      <td>14</td>\n",
       "      <td>1</td>\n",
       "    </tr>\n",
       "  </tbody>\n",
       "</table>\n",
       "</div>"
      ],
      "text/plain": [
       "  Origin_Airport_ID Destination_Airport_ID Distance                 Airline  \\\n",
       "1             11618                  10721        1   United Air Lines Inc.   \n",
       "2             10821                  11057        3  Southwest Airlines Co.   \n",
       "3             11278                  14122        2       Republic Airlines   \n",
       "4             11042                  11292       12  Southwest Airlines Co.   \n",
       "5             13158                  11292        5   SkyWest Airlines Inc.   \n",
       "\n",
       "  Tail_Number        Delay  Day EDT EAT FT  \n",
       "1      N66825  Not_Delayed   20  35  38  2  \n",
       "2      N765SW  Not_Delayed  165  28  31  3  \n",
       "3      N119HQ      Delayed  226  35  37  2  \n",
       "4      N8696E  Not_Delayed   12  20  23  3  \n",
       "5      N165SY  Not_Delayed  263  12  14  1  "
      ]
     },
     "execution_count": 24,
     "metadata": {},
     "output_type": "execute_result"
    }
   ],
   "source": [
    "train.head()"
   ]
  },
  {
   "cell_type": "code",
   "execution_count": 25,
   "metadata": {},
   "outputs": [
    {
     "name": "stdout",
     "output_type": "stream",
     "text": [
      "<class 'pandas.core.frame.DataFrame'>\n",
      "Int64Index: 200121 entries, 1 to 255000\n",
      "Data columns (total 10 columns):\n",
      " #   Column                  Non-Null Count   Dtype \n",
      "---  ------                  --------------   ----- \n",
      " 0   Origin_Airport_ID       200121 non-null  object\n",
      " 1   Destination_Airport_ID  200121 non-null  object\n",
      " 2   Distance                200121 non-null  object\n",
      " 3   Airline                 200121 non-null  object\n",
      " 4   Tail_Number             200121 non-null  object\n",
      " 5   Delay                   200121 non-null  object\n",
      " 6   Day                     200121 non-null  object\n",
      " 7   EDT                     200121 non-null  object\n",
      " 8   EAT                     200121 non-null  object\n",
      " 9   FT                      200121 non-null  object\n",
      "dtypes: object(10)\n",
      "memory usage: 16.8+ MB\n"
     ]
    }
   ],
   "source": [
    "train.info()"
   ]
  },
  {
   "cell_type": "code",
   "execution_count": 26,
   "metadata": {},
   "outputs": [
    {
     "data": {
      "text/html": [
       "<div>\n",
       "<style scoped>\n",
       "    .dataframe tbody tr th:only-of-type {\n",
       "        vertical-align: middle;\n",
       "    }\n",
       "\n",
       "    .dataframe tbody tr th {\n",
       "        vertical-align: top;\n",
       "    }\n",
       "\n",
       "    .dataframe thead th {\n",
       "        text-align: right;\n",
       "    }\n",
       "</style>\n",
       "<table border=\"1\" class=\"dataframe\">\n",
       "  <thead>\n",
       "    <tr style=\"text-align: right;\">\n",
       "      <th></th>\n",
       "      <th>Origin_Airport_ID</th>\n",
       "      <th>Destination_Airport_ID</th>\n",
       "      <th>Distance</th>\n",
       "      <th>Airline</th>\n",
       "      <th>Tail_Number</th>\n",
       "      <th>Delay</th>\n",
       "      <th>Day</th>\n",
       "      <th>EDT</th>\n",
       "      <th>EAT</th>\n",
       "      <th>FT</th>\n",
       "    </tr>\n",
       "  </thead>\n",
       "  <tbody>\n",
       "    <tr>\n",
       "      <th>count</th>\n",
       "      <td>200121</td>\n",
       "      <td>200121</td>\n",
       "      <td>200121</td>\n",
       "      <td>200121</td>\n",
       "      <td>200121</td>\n",
       "      <td>200121</td>\n",
       "      <td>200121</td>\n",
       "      <td>200121</td>\n",
       "      <td>200121</td>\n",
       "      <td>200121.0</td>\n",
       "    </tr>\n",
       "    <tr>\n",
       "      <th>unique</th>\n",
       "      <td>374</td>\n",
       "      <td>373</td>\n",
       "      <td>44</td>\n",
       "      <td>28</td>\n",
       "      <td>6282</td>\n",
       "      <td>2</td>\n",
       "      <td>365</td>\n",
       "      <td>48</td>\n",
       "      <td>48</td>\n",
       "      <td>54.0</td>\n",
       "    </tr>\n",
       "    <tr>\n",
       "      <th>top</th>\n",
       "      <td>13930</td>\n",
       "      <td>13930</td>\n",
       "      <td>3</td>\n",
       "      <td>Southwest Airlines Co.</td>\n",
       "      <td>N485HA</td>\n",
       "      <td>Not_Delayed</td>\n",
       "      <td>326</td>\n",
       "      <td>12</td>\n",
       "      <td>34</td>\n",
       "      <td>2.0</td>\n",
       "    </tr>\n",
       "    <tr>\n",
       "      <th>freq</th>\n",
       "      <td>9663</td>\n",
       "      <td>10089</td>\n",
       "      <td>21644</td>\n",
       "      <td>40639</td>\n",
       "      <td>122</td>\n",
       "      <td>164817</td>\n",
       "      <td>773</td>\n",
       "      <td>9618</td>\n",
       "      <td>6519</td>\n",
       "      <td>47227.0</td>\n",
       "    </tr>\n",
       "  </tbody>\n",
       "</table>\n",
       "</div>"
      ],
      "text/plain": [
       "        Origin_Airport_ID  Destination_Airport_ID  Distance  \\\n",
       "count              200121                  200121    200121   \n",
       "unique                374                     373        44   \n",
       "top                 13930                   13930         3   \n",
       "freq                 9663                   10089     21644   \n",
       "\n",
       "                       Airline Tail_Number        Delay     Day     EDT  \\\n",
       "count                   200121      200121       200121  200121  200121   \n",
       "unique                      28        6282            2     365      48   \n",
       "top     Southwest Airlines Co.      N485HA  Not_Delayed     326      12   \n",
       "freq                     40639         122       164817     773    9618   \n",
       "\n",
       "           EAT        FT  \n",
       "count   200121  200121.0  \n",
       "unique      48      54.0  \n",
       "top         34       2.0  \n",
       "freq      6519   47227.0  "
      ]
     },
     "execution_count": 26,
     "metadata": {},
     "output_type": "execute_result"
    }
   ],
   "source": [
    "train.describe()"
   ]
  },
  {
   "cell_type": "markdown",
   "metadata": {},
   "source": [
    "최종 데이터의 수는 200121개이며 이중 타겟 변수인 Delay의 Data Imbalance를 확인한 결과 지연편(35,304편), 정시도착(164,817편)으로 21:79의 비율로 지연항공편이 확인되었다."
   ]
  },
  {
   "cell_type": "markdown",
   "metadata": {},
   "source": [
    "독립변수를 확인하면 총 365일동안 항공편이 운항되었으며 공항의 수는 출발공항 374개, 도착공항 373개이고, 총 28개 항공사에서 6,282개의 항공기(Tail_Number 기준)가 존재하는것으로 확인하였다. "
   ]
  },
  {
   "cell_type": "markdown",
   "metadata": {},
   "source": [
    "향후 CatbBoost를 적용한 모델 학습시에 Data Imbalance를 확인하여 Data Split을 진행하여야 할 필요가 있다."
   ]
  },
  {
   "cell_type": "markdown",
   "metadata": {},
   "source": [
    "## 4. Data Preparation"
   ]
  },
  {
   "cell_type": "markdown",
   "metadata": {},
   "source": [
    "### 1) imbalanced 데이터 처리하기 - imbalanced-learn 라이브러리를 이용해서 불균형 데이터를 처리"
   ]
  },
  {
   "cell_type": "code",
   "execution_count": null,
   "metadata": {},
   "outputs": [],
   "source": [
    "import pandas as pd\n",
    "import numpy as np\n",
    "from sklearn.model_selection import train_test_split\n",
    "\n",
    "data = pd.read_excel('C:/flight.xlsx')\n",
    "\n",
    "# random seed 고정\n",
    "random_seed = 42\n",
    "np.random.seed(random_seed)\n",
    "\n",
    "# Delay와 notDelay 클래스의 개수 확인\n",
    "delay_count = (data[\"Delay\"] == 1).sum()\n",
    "not_delay_count = (data[\"Delay\"] == 0).sum()\n",
    "\n",
    "# Delay와 notDelay를 5:5 비율로 각각 추출\n",
    "sample_count = min(delay_count, not_delay_count, 25000)\n",
    "delay_data = data[data[\"Delay\"] == 1].sample(n=sample_count)\n",
    "not_delay_data = data[data[\"Delay\"] == 0].sample(n=sample_count)\n",
    "\n",
    "# 추출한 데이터셋을 합치기\n",
    "balanced_data = pd.concat([delay_data, not_delay_data], axis=0)\n",
    "\n",
    "# 나머지 데이터를 validation과 test set으로 나누기\n",
    "remaining_data = data.drop(balanced_data.index)\n",
    "validation_data, test_data = train_test_split(remaining_data, test_size=0.5, random_state=random_seed)\n",
    "\n",
    "# 결과 확인\n",
    "print(\"Balanced Data Shape:\", balanced_data.shape)\n",
    "print(\"Validation Data Shape:\", validation_data.shape)\n",
    "print(\"Test Data Shape:\", test_data.shape)\n",
    "\n",
    "# 추출된 데이터셋을 저장\n",
    "balanced_data.to_csv(\"balanced_data.csv\", index=False)\n",
    "validation_data.to_csv(\"validation_data.csv\", index=False)\n",
    "test_data.to_csv(\"test_data.csv\", index=False)"
   ]
  },
  {
   "cell_type": "markdown",
   "metadata": {},
   "source": [
    "### 2) imbalance를 반영하지 않은 data set를 만들기\n"
   ]
  },
  {
   "cell_type": "code",
   "execution_count": 51,
   "metadata": {},
   "outputs": [
    {
     "name": "stdout",
     "output_type": "stream",
     "text": [
      "Train Data Shape - Delay: (0, 19)\n",
      "Train Data Shape - notDelay: (0, 19)\n",
      "Validation Data Shape - Delay: (0, 19)\n",
      "Validation Data Shape - notDelay: (0, 19)\n",
      "Test Data Shape: (255001, 19)\n"
     ]
    }
   ],
   "source": [
    "# Delay와 notDelay를 Train + Validation 데이터에서 추출\n",
    "train_val_delay_data = data[data[\"Delay\"] == 1].sample(n=30000, replace=True) if (data[\"Delay\"] == 1).sum() >= 30000 else data[data[\"Delay\"] == 1]\n",
    "train_val_not_delay_data = data[data[\"Delay\"] == 0].sample(n=140000, replace=True) if (data[\"Delay\"] == 0).sum() >= 140000 else data[data[\"Delay\"] == 0]\n",
    "\n",
    "# Train 데이터에서 Delay와 notDelay를 추출\n",
    "train_delay_data = train_val_delay_data.sample(n=25000, replace=True) if len(train_val_delay_data) >= 25000 else train_val_delay_data\n",
    "train_not_delay_data = train_val_not_delay_data.sample(n=120000, replace=True) if len(train_val_not_delay_data) >= 120000 else train_val_not_delay_data\n",
    "\n",
    "# Validation 데이터에서 Delay와 notDelay를 추출\n",
    "validation_delay_data = train_val_delay_data.drop(train_delay_data.index).sample(n=5000, replace=True) if len(train_val_delay_data.drop(train_delay_data.index)) >= 5000 else train_val_delay_data.drop(train_delay_data.index)\n",
    "validation_not_delay_data = train_val_not_delay_data.drop(train_not_delay_data.index).sample(n=20000, replace=True) if len(train_val_not_delay_data.drop(train_not_delay_data.index)) >= 20000 else train_val_not_delay_data.drop(train_not_delay_data.index)\n",
    "\n",
    "# Test 데이터로 남은 나머지 데이터 사용\n",
    "test_data = data.drop(train_val_delay_data.index).drop(train_val_not_delay_data.index)\n",
    "\n",
    "# 결과 확인\n",
    "print(\"Train Data Shape - Delay:\", train_delay_data.shape)\n",
    "print(\"Train Data Shape - notDelay:\", train_not_delay_data.shape)\n",
    "print(\"Validation Data Shape - Delay:\", validation_delay_data.shape)\n",
    "print(\"Validation Data Shape - notDelay:\", validation_not_delay_data.shape)\n",
    "print(\"Test Data Shape:\", test_data.shape)\n",
    "\n",
    "# 추출된 데이터셋을 저장\n",
    "train_delay_data.to_csv(\"train_delay_data.csv\", index=False)\n",
    "train_not_delay_data.to_csv(\"train_not_delay_data.csv\", index=False)\n",
    "validation_delay_data.to_csv(\"validation_delay_data.csv\", index=False)\n",
    "validation_not_delay_data.to_csv(\"validation_not_delay_data.csv\", index=False)\n",
    "test_data.to_csv(\"test_data.csv\", index=False)\n",
    "\n"
   ]
  },
  {
   "cell_type": "markdown",
   "metadata": {},
   "source": [
    "### 3) CatBoost 실행하기"
   ]
  },
  {
   "cell_type": "code",
   "execution_count": null,
   "metadata": {},
   "outputs": [],
   "source": []
  },
  {
   "cell_type": "code",
   "execution_count": null,
   "metadata": {
    "scrolled": true
   },
   "outputs": [],
   "source": []
  },
  {
   "cell_type": "code",
   "execution_count": null,
   "metadata": {},
   "outputs": [],
   "source": []
  },
  {
   "cell_type": "code",
   "execution_count": null,
   "metadata": {},
   "outputs": [],
   "source": []
  },
  {
   "cell_type": "code",
   "execution_count": null,
   "metadata": {},
   "outputs": [],
   "source": []
  }
 ],
 "metadata": {
  "kernelspec": {
   "display_name": "Python 3 (ipykernel)",
   "language": "python",
   "name": "python3"
  },
  "language_info": {
   "codemirror_mode": {
    "name": "ipython",
    "version": 3
   },
   "file_extension": ".py",
   "mimetype": "text/x-python",
   "name": "python",
   "nbconvert_exporter": "python",
   "pygments_lexer": "ipython3",
   "version": "3.10.9"
  }
 },
 "nbformat": 4,
 "nbformat_minor": 4
}
